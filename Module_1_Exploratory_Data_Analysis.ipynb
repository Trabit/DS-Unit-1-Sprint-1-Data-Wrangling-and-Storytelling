{
  "nbformat": 4,
  "nbformat_minor": 0,
  "metadata": {
    "colab": {
      "name": "Module 1-Exploratory Data Analysis.ipynb",
      "provenance": [],
      "authorship_tag": "ABX9TyP1kReAMD5v0y+YqamXYNmO",
      "include_colab_link": true
    },
    "kernelspec": {
      "name": "python3",
      "display_name": "Python 3"
    }
  },
  "cells": [
    {
      "cell_type": "markdown",
      "metadata": {
        "id": "view-in-github",
        "colab_type": "text"
      },
      "source": [
        "<a href=\"https://colab.research.google.com/github/Trabit/DS-Unit-1-Sprint-1-Data-Wrangling-and-Storytelling/blob/master/Module_1_Exploratory_Data_Analysis.ipynb\" target=\"_parent\"><img src=\"https://colab.research.google.com/assets/colab-badge.svg\" alt=\"Open In Colab\"/></a>"
      ]
    },
    {
      "cell_type": "markdown",
      "metadata": {
        "id": "nq-CDaY2BncE",
        "colab_type": "text"
      },
      "source": [
        "## finding the differnce between the Agaricus and the Lepiota family, both mushrooms could be poisonus or edible\n",
        "\n"
      ]
    }
  ]
}